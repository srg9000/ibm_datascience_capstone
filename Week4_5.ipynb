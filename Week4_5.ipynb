{
  "nbformat": 4,
  "nbformat_minor": 0,
  "metadata": {
    "colab": {
      "name": "Week4-5.ipynb",
      "provenance": [],
      "collapsed_sections": [],
      "authorship_tag": "ABX9TyObNZvnXA3ZciqQIa/NEuV3",
      "include_colab_link": true
    },
    "kernelspec": {
      "name": "python3",
      "display_name": "Python 3"
    },
    "language_info": {
      "name": "python"
    }
  },
  "cells": [
    {
      "cell_type": "markdown",
      "metadata": {
        "id": "view-in-github",
        "colab_type": "text"
      },
      "source": [
        "<a href=\"https://colab.research.google.com/github/srg9000/ibm_datascience_capstone/blob/main/Week4_5.ipynb\" target=\"_parent\"><img src=\"https://colab.research.google.com/assets/colab-badge.svg\" alt=\"Open In Colab\"/></a>"
      ]
    },
    {
      "cell_type": "markdown",
      "metadata": {
        "id": "iq6bH9PbPXFF"
      },
      "source": [
        "# The Battle of Neighborhoods "
      ]
    },
    {
      "cell_type": "markdown",
      "metadata": {
        "id": "2rHQPdTwhind"
      },
      "source": [
        "## Introduction (Problem statement and discussion):\n",
        "Selecting a good home is not just about owning a place, the user also needs to consider facilities and services offered in the nearby region, such as snack bars, hotels, theaters etc.\n",
        "\n",
        "<br>\n",
        "\n",
        "To make this process easy, this project aims to be a recommendation engine based on user's input of desired services, currently in Neighbourhoods of Toronto. The intended approach is to create feature vectors of neighbourhoods and use them to train classifier which gives out a probability score for top 3 places (neighbourhoods) which are close to the user's requirements.\n",
        "\n",
        "<br>\n",
        "\n",
        "This can be used by home buyers directly as well as real estate agents who make suggestions to their customers."
      ]
    },
    {
      "cell_type": "markdown",
      "metadata": {
        "id": "eQ24060sVIoq"
      },
      "source": [
        "\n",
        "<hr>"
      ]
    },
    {
      "cell_type": "markdown",
      "metadata": {
        "id": "wcehTMMrhiki"
      },
      "source": [
        "## Description of data and its usage\n",
        "\n",
        "Data required is the data for Neighbourhoods in Toronto and nearby venues.\n",
        "\n",
        "- The neighbourhood data (PostalCodes mainly) will be scraped from public websites and then using FourSquare API, the corresponding venues and their categories will be extracted.\n",
        "\n",
        "- The categories will then be converted to numerical features for all venues, and they will be mapped to the corresponding neighbourhoods. Using this, a kNN classifier will be trained.\n",
        "\n",
        "- For prediction, the user input will be converted to same features and a class will be extracted with probabilities, from that top 3 will be returned as suggestion."
      ]
    },
    {
      "cell_type": "code",
      "metadata": {
        "id": "WSLXWJOghH6T"
      },
      "source": [
        ""
      ],
      "execution_count": null,
      "outputs": []
    }
  ]
}